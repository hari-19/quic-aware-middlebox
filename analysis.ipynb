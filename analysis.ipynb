{
 "cells": [
  {
   "cell_type": "code",
   "execution_count": 8,
   "metadata": {},
   "outputs": [],
   "source": [
    "import math\n",
    "import matplotlib.pyplot as plt\n",
    "import matplotlib\n",
    "# import pandas as pd\n",
    "import numpy as np\n",
    "\n",
    "matplotlib.rcParams.update({'font.size': 12})"
   ]
  },
  {
   "cell_type": "code",
   "execution_count": 9,
   "metadata": {},
   "outputs": [],
   "source": [
    "naive_cycles = []\n",
    "nat_cycles = []\n",
    "with open(\"naive_cycles.txt\") as f:\n",
    "    cycles = f.readlines()\n",
    "    for cycle in cycles:\n",
    "        cycle = cycle.strip()\n",
    "        naive_cycles.append(int(cycle))\n",
    "\n",
    "with open(\"nat_cycles.txt\") as f:\n",
    "    cycles = f.readlines()\n",
    "    for cycle in cycles:\n",
    "        cycle = cycle.strip()\n",
    "        nat_cycles.append(int(cycle))"
   ]
  },
  {
   "cell_type": "code",
   "execution_count": 10,
   "metadata": {},
   "outputs": [
    {
     "data": {
      "text/plain": [
       "141112663.86432162"
      ]
     },
     "execution_count": 10,
     "metadata": {},
     "output_type": "execute_result"
    }
   ],
   "source": [
    "avg_naive = sum(naive_cycles) / len(naive_cycles)\n",
    "avg_naive"
   ]
  },
  {
   "cell_type": "code",
   "execution_count": 11,
   "metadata": {},
   "outputs": [
    {
     "data": {
      "text/plain": [
       "149753857.18672198"
      ]
     },
     "execution_count": 11,
     "metadata": {},
     "output_type": "execute_result"
    }
   ],
   "source": [
    "avg_nat = sum(nat_cycles) / len(nat_cycles)\n",
    "avg_nat"
   ]
  },
  {
   "cell_type": "code",
   "execution_count": 12,
   "metadata": {},
   "outputs": [
    {
     "data": {
      "text/plain": [
       "1.061236129244281"
      ]
     },
     "execution_count": 12,
     "metadata": {},
     "output_type": "execute_result"
    }
   ],
   "source": [
    "avg_nat / avg_naive"
   ]
  },
  {
   "cell_type": "code",
   "execution_count": 23,
   "metadata": {},
   "outputs": [
    {
     "name": "stderr",
     "output_type": "stream",
     "text": [
      "/tmp/ipykernel_4482/3003718218.py:11: UserWarning: set_ticklabels() should only be used with a fixed number of ticks, i.e. after set_ticks() or using a FixedLocator.\n",
      "  ax.set_xticklabels(xticks)\n"
     ]
    },
    {
     "data": {
      "image/png": "[encoded data removed]",
      "text/plain": [
       "<Figure size 400x400 with 1 Axes>"
      ]
     },
     "metadata": {},
     "output_type": "display_data"
    }
   ],
   "source": [
    "\n",
    "data = [naive_cycles, nat_cycles]\n",
    " \n",
    "fig = plt.figure(figsize =(4, 4))\n",
    " \n",
    "# Creating axes instance\n",
    "colors = ['pink', 'lightblue']\n",
    "\n",
    "ax = fig.add_axes([0, 0, 1, 1])\n",
    "\n",
    "xticks = [\"\", \"\"]\n",
    "ax.set_xticklabels(xticks)\n",
    "\n",
    "ax.set_ylabel(\"Time (in clock cycles)\")\n",
    "ax.set_ylim([0, 3e8])\n",
    "# ax.set_yticks([100000])#\n",
    "ax.grid(axis=\"y\")\n",
    "# ax.grid(axis=\"y\", which=\"minor\")\n",
    "ax.tick_params(axis='y', which='minor', labelsize=11)\n",
    "# ax.tick_params(axis='y', which='major', labelsize=11)\n",
    "\n",
    "# ax.set_yscale(\"log\")\n",
    "# ax.yaxis.set_minor_formatter(MathTextSciFormatter(\"%1.0e\"))\n",
    "# ax.yaxis.set_major_formatter(MathTextSciFormatter(\"%1.0e\"))\n",
    "\n",
    "ax.minorticks_on()\n",
    "bp = ax.boxplot(data, patch_artist=True, notch=False,showfliers=False, flierprops={'marker': 'o', 'markersize': 1, 'markerfacecolor': 'fuchsia'})\n",
    "for patch, color in zip(bp['boxes'], colors):\n",
    "        patch.set_facecolor(color)\n",
    "labels = [\"UDP NAT\", \"QUIC NAT\"]\n",
    "ax.legend([bp[\"boxes\"][0], bp[\"boxes\"][1]], labels, loc=\"lower right\")\n",
    "\n",
    "plt.savefig('naive_quic_box.pdf',bbox_inches='tight', dpi=150)\n",
    "plt.show()"
   ]
  },
  {
   "cell_type": "code",
   "execution_count": null,
   "metadata": {},
   "outputs": [],
   "source": []
  },
  {
   "cell_type": "code",
   "execution_count": null,
   "metadata": {},
   "outputs": [],
   "source": []
  }
 ],
 "metadata": {
  "kernelspec": {
   "display_name": "venv",
   "language": "python",
   "name": "python3"
  },
  "language_info": {
   "codemirror_mode": {
    "name": "ipython",
    "version": 3
   },
   "file_extension": ".py",
   "mimetype": "text/x-python",
   "name": "python",
   "nbconvert_exporter": "python",
   "pygments_lexer": "ipython3",
   "version": "3.11.6"
  }
 },
 "nbformat": 4,
 "nbformat_minor": 2
}
